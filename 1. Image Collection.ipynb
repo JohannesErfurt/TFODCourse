{
 "cells": [
  {
   "cell_type": "markdown",
   "metadata": {},
   "source": [
    "# 1. Import Dependencies"
   ]
  },
  {
   "cell_type": "code",
   "execution_count": 2,
   "metadata": {},
   "outputs": [
    {
     "name": "stdout",
     "output_type": "stream",
     "text": [
      "Requirement already satisfied: opencv-python in c:\\users\\johannes.erfurt\\python_projects\\tfodcourse\\tfod\\lib\\site-packages (4.10.0.84)\n",
      "Requirement already satisfied: numpy>=1.17.0 in c:\\users\\johannes.erfurt\\python_projects\\tfodcourse\\tfod\\lib\\site-packages (from opencv-python) (1.24.4)\n"
     ]
    }
   ],
   "source": [
    "!pip install opencv-python"
   ]
  },
  {
   "cell_type": "code",
   "execution_count": 1,
   "metadata": {},
   "outputs": [],
   "source": [
    "# Import opencv\n",
    "import cv2 \n",
    "\n",
    "# Import uuid\n",
    "import uuid # Universally Unique Identifier, used to create a random and unique name for the images\n",
    "\n",
    "# Import Operating System\n",
    "import os\n",
    "\n",
    "# Import time\n",
    "import time"
   ]
  },
  {
   "cell_type": "markdown",
   "metadata": {},
   "source": [
    "# 2. Define Images to Collect"
   ]
  },
  {
   "cell_type": "code",
   "execution_count": 23,
   "metadata": {},
   "outputs": [],
   "source": [
    "# labels = ['thumbsup', 'thumbsdown', 'excellent', 'fuckyou']\n",
    "labels = ['tatjana']\n",
    "number_imgs = 25"
   ]
  },
  {
   "cell_type": "markdown",
   "metadata": {},
   "source": [
    "# 3. Setup Folders "
   ]
  },
  {
   "cell_type": "code",
   "execution_count": 24,
   "metadata": {},
   "outputs": [],
   "source": [
    "IMAGES_PATH = os.path.join('Tensorflow', 'workspace', 'images', 'collectedimages')"
   ]
  },
  {
   "cell_type": "code",
   "execution_count": 25,
   "metadata": {},
   "outputs": [],
   "source": [
    "if not os.path.exists(IMAGES_PATH):\n",
    "    if os.name == 'posix':\n",
    "        !mkdir -p {IMAGES_PATH}\n",
    "    if os.name == 'nt':\n",
    "         !mkdir {IMAGES_PATH}\n",
    "for label in labels:\n",
    "    path = os.path.join(IMAGES_PATH, label)\n",
    "    if not os.path.exists(path):\n",
    "        !mkdir {path}"
   ]
  },
  {
   "cell_type": "markdown",
   "metadata": {},
   "source": [
    "# 4. Capture Images"
   ]
  },
  {
   "cell_type": "code",
   "execution_count": 26,
   "metadata": {},
   "outputs": [
    {
     "name": "stdout",
     "output_type": "stream",
     "text": [
      "Collecting images for tatjana\n"
     ]
    }
   ],
   "source": [
    "for label in labels:\n",
    "    cap = cv2.VideoCapture(0) # conncets to the webcam or cature device\n",
    "    print('Collecting images for {}'.format(label))\n",
    "    time.sleep(5)\n",
    "    for imgnum in range(number_imgs):\n",
    "        # print('Collecting image {}'.format(imgnum))\n",
    "        ret, frame = cap.read()\n",
    "        imgname = os.path.join(IMAGES_PATH,label,label+'.'+'{}.jpg'.format(str(uuid.uuid1())))\n",
    "        cv2.imwrite(imgname, frame)\n",
    "        cv2.imshow('frame', frame)\n",
    "        time.sleep(2)\n",
    "\n",
    "        if cv2.waitKey(1) & 0xFF == ord('q'):\n",
    "            break\n",
    "cap.release()\n",
    "cv2.destroyAllWindows()"
   ]
  },
  {
   "cell_type": "markdown",
   "metadata": {},
   "source": [
    "# 5. Image Labelling"
   ]
  },
  {
   "cell_type": "code",
   "execution_count": 17,
   "metadata": {},
   "outputs": [
    {
     "name": "stdout",
     "output_type": "stream",
     "text": [
      "Requirement already satisfied: pyqt5 in c:\\users\\johannes.erfurt\\python_projects\\tfodcourse\\tfod\\lib\\site-packages (5.15.11)\n",
      "Requirement already satisfied: lxml in c:\\users\\johannes.erfurt\\python_projects\\tfodcourse\\tfod\\lib\\site-packages (5.3.0)\n",
      "Requirement already satisfied: PyQt5-sip<13,>=12.15 in c:\\users\\johannes.erfurt\\python_projects\\tfodcourse\\tfod\\lib\\site-packages (from pyqt5) (12.15.0)\n",
      "Requirement already satisfied: PyQt5-Qt5<5.16.0,>=5.15.2 in c:\\users\\johannes.erfurt\\python_projects\\tfodcourse\\tfod\\lib\\site-packages (from pyqt5) (5.15.2)\n"
     ]
    }
   ],
   "source": [
    "!pip install --upgrade pyqt5 lxml"
   ]
  },
  {
   "cell_type": "code",
   "execution_count": 27,
   "metadata": {},
   "outputs": [],
   "source": [
    "LABELIMG_PATH = os.path.join('Tensorflow', 'labelimg')"
   ]
  },
  {
   "cell_type": "code",
   "execution_count": 21,
   "metadata": {},
   "outputs": [
    {
     "name": "stderr",
     "output_type": "stream",
     "text": [
      "Cloning into 'Tensorflow\\labelimg'...\n"
     ]
    }
   ],
   "source": [
    "if not os.path.exists(LABELIMG_PATH):\n",
    "    !mkdir {LABELIMG_PATH}\n",
    "    !git clone https://github.com/tzutalin/labelImg {LABELIMG_PATH}"
   ]
  },
  {
   "cell_type": "code",
   "execution_count": 8,
   "metadata": {},
   "outputs": [],
   "source": [
    "if os.name == 'posix':\n",
    "    !cd {LABELIMG_PATH} && make qt5py3\n",
    "if os.name =='nt':\n",
    "    !cd {LABELIMG_PATH} && pyrcc5 -o libs/resources.py resources.qrc"
   ]
  },
  {
   "cell_type": "code",
   "execution_count": 28,
   "metadata": {},
   "outputs": [
    {
     "name": "stdout",
     "output_type": "stream",
     "text": [
      "Image:C:\\Users\\johannes.erfurt\\python_projects\\TFODCourse\\Tensorflow\\workspace\\images\\collectedimages\\johannes\\johannes.0adf93ad-9446-11ef-87f4-d4d853125d26.jpg -> Annotation:C:/Users/johannes.erfurt/python_projects/TFODCourse/Tensorflow/workspace/images/collectedimages/johannes\\johannes.0adf93ad-9446-11ef-87f4-d4d853125d26.xml\n",
      "Image:C:\\Users\\johannes.erfurt\\python_projects\\TFODCourse\\Tensorflow\\workspace\\images\\collectedimages\\johannes\\johannes.0c130cae-9446-11ef-8f37-d4d853125d26.jpg -> Annotation:C:/Users/johannes.erfurt/python_projects/TFODCourse/Tensorflow/workspace/images/collectedimages/johannes\\johannes.0c130cae-9446-11ef-8f37-d4d853125d26.xml\n",
      "Image:C:\\Users\\johannes.erfurt\\python_projects\\TFODCourse\\Tensorflow\\workspace\\images\\collectedimages\\johannes\\johannes.0d493a3c-9446-11ef-b65a-d4d853125d26.jpg -> Annotation:C:/Users/johannes.erfurt/python_projects/TFODCourse/Tensorflow/workspace/images/collectedimages/johannes\\johannes.0d493a3c-9446-11ef-b65a-d4d853125d26.xml\n",
      "Image:C:\\Users\\johannes.erfurt\\python_projects\\TFODCourse\\Tensorflow\\workspace\\images\\collectedimages\\johannes\\johannes.0e7c7efd-9446-11ef-b3c2-d4d853125d26.jpg -> Annotation:C:/Users/johannes.erfurt/python_projects/TFODCourse/Tensorflow/workspace/images/collectedimages/johannes\\johannes.0e7c7efd-9446-11ef-b3c2-d4d853125d26.xml\n",
      "Image:C:\\Users\\johannes.erfurt\\python_projects\\TFODCourse\\Tensorflow\\workspace\\images\\collectedimages\\johannes\\johannes.0fb2ff8d-9446-11ef-85d1-d4d853125d26.jpg -> Annotation:C:/Users/johannes.erfurt/python_projects/TFODCourse/Tensorflow/workspace/images/collectedimages/johannes\\johannes.0fb2ff8d-9446-11ef-85d1-d4d853125d26.xml\n",
      "Image:C:\\Users\\johannes.erfurt\\python_projects\\TFODCourse\\Tensorflow\\workspace\\images\\collectedimages\\johannes\\johannes.03a2eaa3-9446-11ef-9658-d4d853125d26.jpg -> Annotation:C:/Users/johannes.erfurt/python_projects/TFODCourse/Tensorflow/workspace/images/collectedimages/johannes\\johannes.03a2eaa3-9446-11ef-9658-d4d853125d26.xml\n",
      "Image:C:\\Users\\johannes.erfurt\\python_projects\\TFODCourse\\Tensorflow\\workspace\\images\\collectedimages\\johannes\\johannes.04d6b857-9446-11ef-971f-d4d853125d26.jpg -> Annotation:C:/Users/johannes.erfurt/python_projects/TFODCourse/Tensorflow/workspace/images/collectedimages/johannes\\johannes.04d6b857-9446-11ef-971f-d4d853125d26.xml\n",
      "Image:C:\\Users\\johannes.erfurt\\python_projects\\TFODCourse\\Tensorflow\\workspace\\images\\collectedimages\\johannes\\johannes.09aba643-9446-11ef-a7b0-d4d853125d26.jpg -> Annotation:C:/Users/johannes.erfurt/python_projects/TFODCourse/Tensorflow/workspace/images/collectedimages/johannes\\johannes.09aba643-9446-11ef-a7b0-d4d853125d26.xml\n",
      "Image:C:\\Users\\johannes.erfurt\\python_projects\\TFODCourse\\Tensorflow\\workspace\\images\\collectedimages\\johannes\\johannes.10e775d8-9446-11ef-bdfa-d4d853125d26.jpg -> Annotation:C:/Users/johannes.erfurt/python_projects/TFODCourse/Tensorflow/workspace/images/collectedimages/johannes\\johannes.10e775d8-9446-11ef-bdfa-d4d853125d26.xml\n",
      "Image:C:\\Users\\johannes.erfurt\\python_projects\\TFODCourse\\Tensorflow\\workspace\\images\\collectedimages\\johannes\\johannes.15b4fe72-9446-11ef-b11a-d4d853125d26.jpg -> Annotation:C:/Users/johannes.erfurt/python_projects/TFODCourse/Tensorflow/workspace/images/collectedimages/johannes\\johannes.15b4fe72-9446-11ef-b11a-d4d853125d26.xml\n",
      "Image:C:\\Users\\johannes.erfurt\\python_projects\\TFODCourse\\Tensorflow\\workspace\\images\\collectedimages\\johannes\\johannes.16eb0884-9446-11ef-90a9-d4d853125d26.jpg -> Annotation:C:/Users/johannes.erfurt/python_projects/TFODCourse/Tensorflow/workspace/images/collectedimages/johannes\\johannes.16eb0884-9446-11ef-90a9-d4d853125d26.xml\n",
      "Image:C:\\Users\\johannes.erfurt\\python_projects\\TFODCourse\\Tensorflow\\workspace\\images\\collectedimages\\johannes\\johannes.026c7bc2-9446-11ef-856e-d4d853125d26.jpg -> Annotation:C:/Users/johannes.erfurt/python_projects/TFODCourse/Tensorflow/workspace/images/collectedimages/johannes\\johannes.026c7bc2-9446-11ef-856e-d4d853125d26.xml\n",
      "Image:C:\\Users\\johannes.erfurt\\python_projects\\TFODCourse\\Tensorflow\\workspace\\images\\collectedimages\\johannes\\johannes.060c0c54-9446-11ef-a9a7-d4d853125d26.jpg -> Annotation:C:/Users/johannes.erfurt/python_projects/TFODCourse/Tensorflow/workspace/images/collectedimages/johannes\\johannes.060c0c54-9446-11ef-a9a7-d4d853125d26.xml\n",
      "Image:C:\\Users\\johannes.erfurt\\python_projects\\TFODCourse\\Tensorflow\\workspace\\images\\collectedimages\\johannes\\johannes.121b61b0-9446-11ef-915b-d4d853125d26.jpg -> Annotation:C:/Users/johannes.erfurt/python_projects/TFODCourse/Tensorflow/workspace/images/collectedimages/johannes\\johannes.121b61b0-9446-11ef-915b-d4d853125d26.xml\n",
      "Image:C:\\Users\\johannes.erfurt\\python_projects\\TFODCourse\\Tensorflow\\workspace\\images\\collectedimages\\johannes\\johannes.134e7752-9446-11ef-bf83-d4d853125d26.jpg -> Annotation:C:/Users/johannes.erfurt/python_projects/TFODCourse/Tensorflow/workspace/images/collectedimages/johannes\\johannes.134e7752-9446-11ef-bf83-d4d853125d26.xml\n",
      "Image:C:\\Users\\johannes.erfurt\\python_projects\\TFODCourse\\Tensorflow\\workspace\\images\\collectedimages\\johannes\\johannes.0741f540-9446-11ef-89f1-d4d853125d26.jpg -> Annotation:C:/Users/johannes.erfurt/python_projects/TFODCourse/Tensorflow/workspace/images/collectedimages/johannes\\johannes.0741f540-9446-11ef-89f1-d4d853125d26.xml\n",
      "ESC press\n",
      "Cancel creation.\n",
      "Image:C:\\Users\\johannes.erfurt\\python_projects\\TFODCourse\\Tensorflow\\workspace\\images\\collectedimages\\johannes\\johannes.01366e25-9446-11ef-a200-d4d853125d26.jpg -> Annotation:C:/Users/johannes.erfurt/python_projects/TFODCourse/Tensorflow/workspace/images/collectedimages/johannes\\johannes.01366e25-9446-11ef-a200-d4d853125d26.xml\n",
      "Image:C:\\Users\\johannes.erfurt\\python_projects\\TFODCourse\\Tensorflow\\workspace\\images\\collectedimages\\johannes\\johannes.14823e18-9446-11ef-b0f7-d4d853125d26.jpg -> Annotation:C:/Users/johannes.erfurt/python_projects/TFODCourse/Tensorflow/workspace/images/collectedimages/johannes\\johannes.14823e18-9446-11ef-b0f7-d4d853125d26.xml\n",
      "Image:C:\\Users\\johannes.erfurt\\python_projects\\TFODCourse\\Tensorflow\\workspace\\images\\collectedimages\\johannes\\johannes.00027854-9446-11ef-9701-d4d853125d26.jpg -> Annotation:C:/Users/johannes.erfurt/python_projects/TFODCourse/Tensorflow/workspace/images/collectedimages/johannes\\johannes.00027854-9446-11ef-9701-d4d853125d26.xml\n",
      "Image:C:\\Users\\johannes.erfurt\\python_projects\\TFODCourse\\Tensorflow\\workspace\\images\\collectedimages\\johannes\\johannes.08760089-9446-11ef-abfa-d4d853125d26.jpg -> Annotation:C:/Users/johannes.erfurt/python_projects/TFODCourse/Tensorflow/workspace/images/collectedimages/johannes\\johannes.08760089-9446-11ef-abfa-d4d853125d26.xml\n",
      "Image:C:\\Users\\johannes.erfurt\\python_projects\\TFODCourse\\Tensorflow\\workspace\\images\\collectedimages\\johannes\\johannes.f9fa6ba5-9445-11ef-8669-d4d853125d26.jpg -> Annotation:C:/Users/johannes.erfurt/python_projects/TFODCourse/Tensorflow/workspace/images/collectedimages/johannes\\johannes.f9fa6ba5-9445-11ef-8669-d4d853125d26.xml\n",
      "Image:C:\\Users\\johannes.erfurt\\python_projects\\TFODCourse\\Tensorflow\\workspace\\images\\collectedimages\\johannes\\johannes.fb3261ea-9445-11ef-8d0c-d4d853125d26.jpg -> Annotation:C:/Users/johannes.erfurt/python_projects/TFODCourse/Tensorflow/workspace/images/collectedimages/johannes\\johannes.fb3261ea-9445-11ef-8d0c-d4d853125d26.xml\n",
      "Image:C:\\Users\\johannes.erfurt\\python_projects\\TFODCourse\\Tensorflow\\workspace\\images\\collectedimages\\johannes\\johannes.fc655b3b-9445-11ef-926f-d4d853125d26.jpg -> Annotation:C:/Users/johannes.erfurt/python_projects/TFODCourse/Tensorflow/workspace/images/collectedimages/johannes\\johannes.fc655b3b-9445-11ef-926f-d4d853125d26.xml\n",
      "Image:C:\\Users\\johannes.erfurt\\python_projects\\TFODCourse\\Tensorflow\\workspace\\images\\collectedimages\\johannes\\johannes.fd98c732-9445-11ef-a0fe-d4d853125d26.jpg -> Annotation:C:/Users/johannes.erfurt/python_projects/TFODCourse/Tensorflow/workspace/images/collectedimages/johannes\\johannes.fd98c732-9445-11ef-a0fe-d4d853125d26.xml\n",
      "Image:C:\\Users\\johannes.erfurt\\python_projects\\TFODCourse\\Tensorflow\\workspace\\images\\collectedimages\\johannes\\johannes.fecdc714-9445-11ef-b841-d4d853125d26.jpg -> Annotation:C:/Users/johannes.erfurt/python_projects/TFODCourse/Tensorflow/workspace/images/collectedimages/johannes\\johannes.fecdc714-9445-11ef-b841-d4d853125d26.xml\n",
      "Image:C:\\Users\\johannes.erfurt\\python_projects\\TFODCourse\\Tensorflow\\workspace\\images\\collectedimages\\tatjana\\tatjana.1a6dd336-9447-11ef-88d4-d4d853125d26.jpg -> Annotation:C:/Users/johannes.erfurt/python_projects/TFODCourse/Tensorflow/workspace/images/collectedimages/tatjana\\tatjana.1a6dd336-9447-11ef-88d4-d4d853125d26.xml\n",
      "Image:C:\\Users\\johannes.erfurt\\python_projects\\TFODCourse\\Tensorflow\\workspace\\images\\collectedimages\\tatjana\\tatjana.1ba14ee9-9447-11ef-9ea7-d4d853125d26.jpg -> Annotation:C:/Users/johannes.erfurt/python_projects/TFODCourse/Tensorflow/workspace/images/collectedimages/tatjana\\tatjana.1ba14ee9-9447-11ef-9ea7-d4d853125d26.xml\n",
      "Image:C:\\Users\\johannes.erfurt\\python_projects\\TFODCourse\\Tensorflow\\workspace\\images\\collectedimages\\tatjana\\tatjana.1cd59d35-9447-11ef-b778-d4d853125d26.jpg -> Annotation:C:/Users/johannes.erfurt/python_projects/TFODCourse/Tensorflow/workspace/images/collectedimages/tatjana\\tatjana.1cd59d35-9447-11ef-b778-d4d853125d26.xml\n",
      "Image:C:\\Users\\johannes.erfurt\\python_projects\\TFODCourse\\Tensorflow\\workspace\\images\\collectedimages\\tatjana\\tatjana.1e0950e7-9447-11ef-a7f6-d4d853125d26.jpg -> Annotation:C:/Users/johannes.erfurt/python_projects/TFODCourse/Tensorflow/workspace/images/collectedimages/tatjana\\tatjana.1e0950e7-9447-11ef-a7f6-d4d853125d26.xml\n",
      "Image:C:\\Users\\johannes.erfurt\\python_projects\\TFODCourse\\Tensorflow\\workspace\\images\\collectedimages\\tatjana\\tatjana.1f3d20fa-9447-11ef-abd9-d4d853125d26.jpg -> Annotation:C:/Users/johannes.erfurt/python_projects/TFODCourse/Tensorflow/workspace/images/collectedimages/tatjana\\tatjana.1f3d20fa-9447-11ef-abd9-d4d853125d26.xml\n",
      "Image:C:\\Users\\johannes.erfurt\\python_projects\\TFODCourse\\Tensorflow\\workspace\\images\\collectedimages\\tatjana\\tatjana.2a17b616-9447-11ef-bdf9-d4d853125d26.jpg -> Annotation:C:/Users/johannes.erfurt/python_projects/TFODCourse/Tensorflow/workspace/images/collectedimages/tatjana\\tatjana.2a17b616-9447-11ef-bdf9-d4d853125d26.xml\n",
      "Image:C:\\Users\\johannes.erfurt\\python_projects\\TFODCourse\\Tensorflow\\workspace\\images\\collectedimages\\tatjana\\tatjana.2b4af868-9447-11ef-a39b-d4d853125d26.jpg -> Annotation:C:/Users/johannes.erfurt/python_projects/TFODCourse/Tensorflow/workspace/images/collectedimages/tatjana\\tatjana.2b4af868-9447-11ef-a39b-d4d853125d26.xml\n",
      "Image:C:\\Users\\johannes.erfurt\\python_projects\\TFODCourse\\Tensorflow\\workspace\\images\\collectedimages\\tatjana\\tatjana.2c81c086-9447-11ef-b087-d4d853125d26.jpg -> Annotation:C:/Users/johannes.erfurt/python_projects/TFODCourse/Tensorflow/workspace/images/collectedimages/tatjana\\tatjana.2c81c086-9447-11ef-b087-d4d853125d26.xml\n",
      "Image:C:\\Users\\johannes.erfurt\\python_projects\\TFODCourse\\Tensorflow\\workspace\\images\\collectedimages\\tatjana\\tatjana.2db85daf-9447-11ef-a45d-d4d853125d26.jpg -> Annotation:C:/Users/johannes.erfurt/python_projects/TFODCourse/Tensorflow/workspace/images/collectedimages/tatjana\\tatjana.2db85daf-9447-11ef-a45d-d4d853125d26.xml\n",
      "Image:C:\\Users\\johannes.erfurt\\python_projects\\TFODCourse\\Tensorflow\\workspace\\images\\collectedimages\\tatjana\\tatjana.2eecc1d8-9447-11ef-99c4-d4d853125d26.jpg -> Annotation:C:/Users/johannes.erfurt/python_projects/TFODCourse/Tensorflow/workspace/images/collectedimages/tatjana\\tatjana.2eecc1d8-9447-11ef-99c4-d4d853125d26.xml\n",
      "Image:C:\\Users\\johannes.erfurt\\python_projects\\TFODCourse\\Tensorflow\\workspace\\images\\collectedimages\\tatjana\\tatjana.16cc5bf0-9447-11ef-aff8-d4d853125d26.jpg -> Annotation:C:/Users/johannes.erfurt/python_projects/TFODCourse/Tensorflow/workspace/images/collectedimages/tatjana\\tatjana.16cc5bf0-9447-11ef-aff8-d4d853125d26.xml\n",
      "Image:C:\\Users\\johannes.erfurt\\python_projects\\TFODCourse\\Tensorflow\\workspace\\images\\collectedimages\\tatjana\\tatjana.21a673ac-9447-11ef-bd8a-d4d853125d26.jpg -> Annotation:C:/Users/johannes.erfurt/python_projects/TFODCourse/Tensorflow/workspace/images/collectedimages/tatjana\\tatjana.21a673ac-9447-11ef-bd8a-d4d853125d26.xml\n",
      "Image:C:\\Users\\johannes.erfurt\\python_projects\\TFODCourse\\Tensorflow\\workspace\\images\\collectedimages\\tatjana\\tatjana.22dd6a47-9447-11ef-8307-d4d853125d26.jpg -> Annotation:C:/Users/johannes.erfurt/python_projects/TFODCourse/Tensorflow/workspace/images/collectedimages/tatjana\\tatjana.22dd6a47-9447-11ef-8307-d4d853125d26.xml\n",
      "Image:C:\\Users\\johannes.erfurt\\python_projects\\TFODCourse\\Tensorflow\\workspace\\images\\collectedimages\\tatjana\\tatjana.27aefbea-9447-11ef-a6fa-d4d853125d26.jpg -> Annotation:C:/Users/johannes.erfurt/python_projects/TFODCourse/Tensorflow/workspace/images/collectedimages/tatjana\\tatjana.27aefbea-9447-11ef-a6fa-d4d853125d26.xml\n",
      "Image:C:\\Users\\johannes.erfurt\\python_projects\\TFODCourse\\Tensorflow\\workspace\\images\\collectedimages\\tatjana\\tatjana.28e3047f-9447-11ef-8ce7-d4d853125d26.jpg -> Annotation:C:/Users/johannes.erfurt/python_projects/TFODCourse/Tensorflow/workspace/images/collectedimages/tatjana\\tatjana.28e3047f-9447-11ef-8ce7-d4d853125d26.xml\n",
      "Image:C:\\Users\\johannes.erfurt\\python_projects\\TFODCourse\\Tensorflow\\workspace\\images\\collectedimages\\tatjana\\tatjana.132b8f9a-9447-11ef-b80c-d4d853125d26.jpg -> Annotation:C:/Users/johannes.erfurt/python_projects/TFODCourse/Tensorflow/workspace/images/collectedimages/tatjana\\tatjana.132b8f9a-9447-11ef-b80c-d4d853125d26.xml\n",
      "Image:C:\\Users\\johannes.erfurt\\python_projects\\TFODCourse\\Tensorflow\\workspace\\images\\collectedimages\\tatjana\\tatjana.267a28ed-9447-11ef-bc2b-d4d853125d26.jpg -> Annotation:C:/Users/johannes.erfurt/python_projects/TFODCourse/Tensorflow/workspace/images/collectedimages/tatjana\\tatjana.267a28ed-9447-11ef-bc2b-d4d853125d26.xml\n",
      "Image:C:\\Users\\johannes.erfurt\\python_projects\\TFODCourse\\Tensorflow\\workspace\\images\\collectedimages\\tatjana\\tatjana.301ff011-9447-11ef-9b82-d4d853125d26.jpg -> Annotation:C:/Users/johannes.erfurt/python_projects/TFODCourse/Tensorflow/workspace/images/collectedimages/tatjana\\tatjana.301ff011-9447-11ef-9b82-d4d853125d26.xml\n",
      "Image:C:\\Users\\johannes.erfurt\\python_projects\\TFODCourse\\Tensorflow\\workspace\\images\\collectedimages\\tatjana\\tatjana.2411be71-9447-11ef-918d-d4d853125d26.jpg -> Annotation:C:/Users/johannes.erfurt/python_projects/TFODCourse/Tensorflow/workspace/images/collectedimages/tatjana\\tatjana.2411be71-9447-11ef-918d-d4d853125d26.xml\n",
      "Image:C:\\Users\\johannes.erfurt\\python_projects\\TFODCourse\\Tensorflow\\workspace\\images\\collectedimages\\tatjana\\tatjana.2545bc64-9447-11ef-856b-d4d853125d26.jpg -> Annotation:C:/Users/johannes.erfurt/python_projects/TFODCourse/Tensorflow/workspace/images/collectedimages/tatjana\\tatjana.2545bc64-9447-11ef-856b-d4d853125d26.xml\n",
      "Image:C:\\Users\\johannes.erfurt\\python_projects\\TFODCourse\\Tensorflow\\workspace\\images\\collectedimages\\tatjana\\tatjana.18040c39-9447-11ef-8a64-d4d853125d26.jpg -> Annotation:C:/Users/johannes.erfurt/python_projects/TFODCourse/Tensorflow/workspace/images/collectedimages/tatjana\\tatjana.18040c39-9447-11ef-8a64-d4d853125d26.xml\n",
      "Image:C:\\Users\\johannes.erfurt\\python_projects\\TFODCourse\\Tensorflow\\workspace\\images\\collectedimages\\tatjana\\tatjana.20715bc7-9447-11ef-80e2-d4d853125d26.jpg -> Annotation:C:/Users/johannes.erfurt/python_projects/TFODCourse/Tensorflow/workspace/images/collectedimages/tatjana\\tatjana.20715bc7-9447-11ef-80e2-d4d853125d26.xml\n",
      "Image:C:\\Users\\johannes.erfurt\\python_projects\\TFODCourse\\Tensorflow\\workspace\\images\\collectedimages\\tatjana\\tatjana.159608bb-9447-11ef-b664-d4d853125d26.jpg -> Annotation:C:/Users/johannes.erfurt/python_projects/TFODCourse/Tensorflow/workspace/images/collectedimages/tatjana\\tatjana.159608bb-9447-11ef-b664-d4d853125d26.xml\n",
      "Image:C:\\Users\\johannes.erfurt\\python_projects\\TFODCourse\\Tensorflow\\workspace\\images\\collectedimages\\tatjana\\tatjana.1463157a-9447-11ef-8892-d4d853125d26.jpg -> Annotation:C:/Users/johannes.erfurt/python_projects/TFODCourse/Tensorflow/workspace/images/collectedimages/tatjana\\tatjana.1463157a-9447-11ef-8892-d4d853125d26.xml\n",
      "Image:C:\\Users\\johannes.erfurt\\python_projects\\TFODCourse\\Tensorflow\\workspace\\images\\collectedimages\\tatjana\\tatjana.19399840-9447-11ef-80e9-d4d853125d26.jpg -> Annotation:C:/Users/johannes.erfurt/python_projects/TFODCourse/Tensorflow/workspace/images/collectedimages/tatjana\\tatjana.19399840-9447-11ef-80e9-d4d853125d26.xml\n",
      "Image:C:\\Users\\johannes.erfurt\\python_projects\\TFODCourse\\Tensorflow\\workspace\\images\\collectedimages\\leonie\\leonie.4a44e7de-9446-11ef-8b5e-d4d853125d26.jpg -> Annotation:C:/Users/johannes.erfurt/python_projects/TFODCourse/Tensorflow/workspace/images/collectedimages/leonie\\leonie.4a44e7de-9446-11ef-8b5e-d4d853125d26.xml\n",
      "Image:C:\\Users\\johannes.erfurt\\python_projects\\TFODCourse\\Tensorflow\\workspace\\images\\collectedimages\\leonie\\leonie.4a44e7de-9446-11ef-8b5e-d4d853125d26.jpg -> Annotation:C:/Users/johannes.erfurt/python_projects/TFODCourse/Tensorflow/workspace/images/collectedimages/leonie\\leonie.4a44e7de-9446-11ef-8b5e-d4d853125d26.xml\n",
      "Image:C:\\Users\\johannes.erfurt\\python_projects\\TFODCourse\\Tensorflow\\workspace\\images\\collectedimages\\leonie\\leonie.4b79db3f-9446-11ef-b160-d4d853125d26.jpg -> Annotation:C:/Users/johannes.erfurt/python_projects/TFODCourse/Tensorflow/workspace/images/collectedimages/leonie\\leonie.4b79db3f-9446-11ef-b160-d4d853125d26.xml\n",
      "Image:C:\\Users\\johannes.erfurt\\python_projects\\TFODCourse\\Tensorflow\\workspace\\images\\collectedimages\\leonie\\leonie.4caf3a7c-9446-11ef-bb39-d4d853125d26.jpg -> Annotation:C:/Users/johannes.erfurt/python_projects/TFODCourse/Tensorflow/workspace/images/collectedimages/leonie\\leonie.4caf3a7c-9446-11ef-bb39-d4d853125d26.xml\n",
      "Image:C:\\Users\\johannes.erfurt\\python_projects\\TFODCourse\\Tensorflow\\workspace\\images\\collectedimages\\leonie\\leonie.4de38e3f-9446-11ef-b55c-d4d853125d26.jpg -> Annotation:C:/Users/johannes.erfurt/python_projects/TFODCourse/Tensorflow/workspace/images/collectedimages/leonie\\leonie.4de38e3f-9446-11ef-b55c-d4d853125d26.xml\n",
      "Image:C:\\Users\\johannes.erfurt\\python_projects\\TFODCourse\\Tensorflow\\workspace\\images\\collectedimages\\leonie\\leonie.4f17250b-9446-11ef-a052-d4d853125d26.jpg -> Annotation:C:/Users/johannes.erfurt/python_projects/TFODCourse/Tensorflow/workspace/images/collectedimages/leonie\\leonie.4f17250b-9446-11ef-a052-d4d853125d26.xml\n",
      "Image:C:\\Users\\johannes.erfurt\\python_projects\\TFODCourse\\Tensorflow\\workspace\\images\\collectedimages\\leonie\\leonie.5b261c3d-9446-11ef-96a6-d4d853125d26.jpg -> Annotation:C:/Users/johannes.erfurt/python_projects/TFODCourse/Tensorflow/workspace/images/collectedimages/leonie\\leonie.5b261c3d-9446-11ef-96a6-d4d853125d26.xml\n",
      "Image:C:\\Users\\johannes.erfurt\\python_projects\\TFODCourse\\Tensorflow\\workspace\\images\\collectedimages\\leonie\\leonie.5c5d523d-9446-11ef-930e-d4d853125d26.jpg -> Annotation:C:/Users/johannes.erfurt/python_projects/TFODCourse/Tensorflow/workspace/images/collectedimages/leonie\\leonie.5c5d523d-9446-11ef-930e-d4d853125d26.xml\n",
      "Image:C:\\Users\\johannes.erfurt\\python_projects\\TFODCourse\\Tensorflow\\workspace\\images\\collectedimages\\leonie\\leonie.5d915376-9446-11ef-a364-d4d853125d26.jpg -> Annotation:C:/Users/johannes.erfurt/python_projects/TFODCourse/Tensorflow/workspace/images/collectedimages/leonie\\leonie.5d915376-9446-11ef-a364-d4d853125d26.xml\n",
      "Image:C:\\Users\\johannes.erfurt\\python_projects\\TFODCourse\\Tensorflow\\workspace\\images\\collectedimages\\leonie\\leonie.5ec4980e-9446-11ef-b52f-d4d853125d26.jpg -> Annotation:C:/Users/johannes.erfurt/python_projects/TFODCourse/Tensorflow/workspace/images/collectedimages/leonie\\leonie.5ec4980e-9446-11ef-b52f-d4d853125d26.xml\n",
      "Image:C:\\Users\\johannes.erfurt\\python_projects\\TFODCourse\\Tensorflow\\workspace\\images\\collectedimages\\leonie\\leonie.5ff8c993-9446-11ef-821a-d4d853125d26.jpg -> Annotation:C:/Users/johannes.erfurt/python_projects/TFODCourse/Tensorflow/workspace/images/collectedimages/leonie\\leonie.5ff8c993-9446-11ef-821a-d4d853125d26.xml\n",
      "Cancel creation.\n",
      "Image:C:\\Users\\johannes.erfurt\\python_projects\\TFODCourse\\Tensorflow\\workspace\\images\\collectedimages\\leonie\\leonie.46aa3dfa-9446-11ef-bc41-d4d853125d26.jpg -> Annotation:C:/Users/johannes.erfurt/python_projects/TFODCourse/Tensorflow/workspace/images/collectedimages/leonie\\leonie.46aa3dfa-9446-11ef-bc41-d4d853125d26.xml\n",
      "Image:C:\\Users\\johannes.erfurt\\python_projects\\TFODCourse\\Tensorflow\\workspace\\images\\collectedimages\\leonie\\leonie.47ddaa75-9446-11ef-b1c5-d4d853125d26.jpg -> Annotation:C:/Users/johannes.erfurt/python_projects/TFODCourse/Tensorflow/workspace/images/collectedimages/leonie\\leonie.47ddaa75-9446-11ef-b1c5-d4d853125d26.xml\n",
      "Image:C:\\Users\\johannes.erfurt\\python_projects\\TFODCourse\\Tensorflow\\workspace\\images\\collectedimages\\leonie\\leonie.52b26129-9446-11ef-a402-d4d853125d26.jpg -> Annotation:C:/Users/johannes.erfurt/python_projects/TFODCourse/Tensorflow/workspace/images/collectedimages/leonie\\leonie.52b26129-9446-11ef-a402-d4d853125d26.xml\n",
      "Image:C:\\Users\\johannes.erfurt\\python_projects\\TFODCourse\\Tensorflow\\workspace\\images\\collectedimages\\leonie\\leonie.53e87b1f-9446-11ef-bac3-d4d853125d26.jpg -> Annotation:C:/Users/johannes.erfurt/python_projects/TFODCourse/Tensorflow/workspace/images/collectedimages/leonie\\leonie.53e87b1f-9446-11ef-bac3-d4d853125d26.xml\n",
      "Image:C:\\Users\\johannes.erfurt\\python_projects\\TFODCourse\\Tensorflow\\workspace\\images\\collectedimages\\leonie\\leonie.58ba42ab-9446-11ef-bb5a-d4d853125d26.jpg -> Annotation:C:/Users/johannes.erfurt/python_projects/TFODCourse/Tensorflow/workspace/images/collectedimages/leonie\\leonie.58ba42ab-9446-11ef-bb5a-d4d853125d26.xml\n",
      "Image:C:\\Users\\johannes.erfurt\\python_projects\\TFODCourse\\Tensorflow\\workspace\\images\\collectedimages\\leonie\\leonie.59f0f1db-9446-11ef-89e4-d4d853125d26.jpg -> Annotation:C:/Users/johannes.erfurt/python_projects/TFODCourse/Tensorflow/workspace/images/collectedimages/leonie\\leonie.59f0f1db-9446-11ef-89e4-d4d853125d26.xml\n",
      "Image:C:\\Users\\johannes.erfurt\\python_projects\\TFODCourse\\Tensorflow\\workspace\\images\\collectedimages\\leonie\\leonie.443f9c66-9446-11ef-9f98-d4d853125d26.jpg -> Annotation:C:/Users/johannes.erfurt/python_projects/TFODCourse/Tensorflow/workspace/images/collectedimages/leonie\\leonie.443f9c66-9446-11ef-9f98-d4d853125d26.xml\n",
      "Image:C:\\Users\\johannes.erfurt\\python_projects\\TFODCourse\\Tensorflow\\workspace\\images\\collectedimages\\leonie\\leonie.504b222d-9446-11ef-8b3a-d4d853125d26.jpg -> Annotation:C:/Users/johannes.erfurt/python_projects/TFODCourse/Tensorflow/workspace/images/collectedimages/leonie\\leonie.504b222d-9446-11ef-8b3a-d4d853125d26.xml\n",
      "Image:C:\\Users\\johannes.erfurt\\python_projects\\TFODCourse\\Tensorflow\\workspace\\images\\collectedimages\\leonie\\leonie.517f62a4-9446-11ef-9dbc-d4d853125d26.jpg -> Annotation:C:/Users/johannes.erfurt/python_projects/TFODCourse/Tensorflow/workspace/images/collectedimages/leonie\\leonie.517f62a4-9446-11ef-9dbc-d4d853125d26.xml\n",
      "Image:C:\\Users\\johannes.erfurt\\python_projects\\TFODCourse\\Tensorflow\\workspace\\images\\collectedimages\\leonie\\leonie.551d23c3-9446-11ef-94b1-d4d853125d26.jpg -> Annotation:C:/Users/johannes.erfurt/python_projects/TFODCourse/Tensorflow/workspace/images/collectedimages/leonie\\leonie.551d23c3-9446-11ef-94b1-d4d853125d26.xml\n",
      "Image:C:\\Users\\johannes.erfurt\\python_projects\\TFODCourse\\Tensorflow\\workspace\\images\\collectedimages\\leonie\\leonie.4911a609-9446-11ef-be70-d4d853125d26.jpg -> Annotation:C:/Users/johannes.erfurt/python_projects/TFODCourse/Tensorflow/workspace/images/collectedimages/leonie\\leonie.4911a609-9446-11ef-be70-d4d853125d26.xml\n",
      "Image:C:\\Users\\johannes.erfurt\\python_projects\\TFODCourse\\Tensorflow\\workspace\\images\\collectedimages\\leonie\\leonie.5652dc85-9446-11ef-a0a1-d4d853125d26.jpg -> Annotation:C:/Users/johannes.erfurt/python_projects/TFODCourse/Tensorflow/workspace/images/collectedimages/leonie\\leonie.5652dc85-9446-11ef-a0a1-d4d853125d26.xml\n",
      "Image:C:\\Users\\johannes.erfurt\\python_projects\\TFODCourse\\Tensorflow\\workspace\\images\\collectedimages\\leonie\\leonie.43081e8e-9446-11ef-ad74-d4d853125d26.jpg -> Annotation:C:/Users/johannes.erfurt/python_projects/TFODCourse/Tensorflow/workspace/images/collectedimages/leonie\\leonie.43081e8e-9446-11ef-ad74-d4d853125d26.xml\n",
      "Image:C:\\Users\\johannes.erfurt\\python_projects\\TFODCourse\\Tensorflow\\workspace\\images\\collectedimages\\leonie\\leonie.45749a94-9446-11ef-88dc-d4d853125d26.jpg -> Annotation:C:/Users/johannes.erfurt/python_projects/TFODCourse/Tensorflow/workspace/images/collectedimages/leonie\\leonie.45749a94-9446-11ef-88dc-d4d853125d26.xml\n",
      "Image:C:\\Users\\johannes.erfurt\\python_projects\\TFODCourse\\Tensorflow\\workspace\\images\\collectedimages\\leonie\\leonie.578683e1-9446-11ef-89b1-d4d853125d26.jpg -> Annotation:C:/Users/johannes.erfurt/python_projects/TFODCourse/Tensorflow/workspace/images/collectedimages/leonie\\leonie.578683e1-9446-11ef-89b1-d4d853125d26.xml\n",
      "Image:C:\\Users\\johannes.erfurt\\python_projects\\TFODCourse\\Tensorflow\\workspace\\images\\collectedimages\\elias\\elias.a84da4e7-9446-11ef-b127-d4d853125d26.jpg -> Annotation:C:/Users/johannes.erfurt/python_projects/TFODCourse/Tensorflow/workspace/images/collectedimages/elias\\elias.a84da4e7-9446-11ef-b127-d4d853125d26.xml\n",
      "Image:C:\\Users\\johannes.erfurt\\python_projects\\TFODCourse\\Tensorflow\\workspace\\images\\collectedimages\\elias\\elias.a984bcea-9446-11ef-a6cf-d4d853125d26.jpg -> Annotation:C:/Users/johannes.erfurt/python_projects/TFODCourse/Tensorflow/workspace/images/collectedimages/elias\\elias.a984bcea-9446-11ef-a6cf-d4d853125d26.xml\n",
      "Image:C:\\Users\\johannes.erfurt\\python_projects\\TFODCourse\\Tensorflow\\workspace\\images\\collectedimages\\elias\\elias.aab90613-9446-11ef-a6fe-d4d853125d26.jpg -> Annotation:C:/Users/johannes.erfurt/python_projects/TFODCourse/Tensorflow/workspace/images/collectedimages/elias\\elias.aab90613-9446-11ef-a6fe-d4d853125d26.xml\n",
      "Image:C:\\Users\\johannes.erfurt\\python_projects\\TFODCourse\\Tensorflow\\workspace\\images\\collectedimages\\elias\\elias.abecca6e-9446-11ef-b2de-d4d853125d26.jpg -> Annotation:C:/Users/johannes.erfurt/python_projects/TFODCourse/Tensorflow/workspace/images/collectedimages/elias\\elias.abecca6e-9446-11ef-b2de-d4d853125d26.xml\n",
      "Image:C:\\Users\\johannes.erfurt\\python_projects\\TFODCourse\\Tensorflow\\workspace\\images\\collectedimages\\elias\\elias.ae53c88c-9446-11ef-b925-d4d853125d26.jpg -> Annotation:C:/Users/johannes.erfurt/python_projects/TFODCourse/Tensorflow/workspace/images/collectedimages/elias\\elias.ae53c88c-9446-11ef-b925-d4d853125d26.xml\n",
      "Image:C:\\Users\\johannes.erfurt\\python_projects\\TFODCourse\\Tensorflow\\workspace\\images\\collectedimages\\elias\\elias.af87df62-9446-11ef-bb35-d4d853125d26.jpg -> Annotation:C:/Users/johannes.erfurt/python_projects/TFODCourse/Tensorflow/workspace/images/collectedimages/elias\\elias.af87df62-9446-11ef-bb35-d4d853125d26.xml\n",
      "Image:C:\\Users\\johannes.erfurt\\python_projects\\TFODCourse\\Tensorflow\\workspace\\images\\collectedimages\\elias\\elias.b0bda74e-9446-11ef-9442-d4d853125d26.jpg -> Annotation:C:/Users/johannes.erfurt/python_projects/TFODCourse/Tensorflow/workspace/images/collectedimages/elias\\elias.b0bda74e-9446-11ef-9442-d4d853125d26.xml\n",
      "Image:C:\\Users\\johannes.erfurt\\python_projects\\TFODCourse\\Tensorflow\\workspace\\images\\collectedimages\\elias\\elias.b1f0d023-9446-11ef-aeae-d4d853125d26.jpg -> Annotation:C:/Users/johannes.erfurt/python_projects/TFODCourse/Tensorflow/workspace/images/collectedimages/elias\\elias.b1f0d023-9446-11ef-aeae-d4d853125d26.xml\n",
      "Image:C:\\Users\\johannes.erfurt\\python_projects\\TFODCourse\\Tensorflow\\workspace\\images\\collectedimages\\elias\\elias.b6c1c8eb-9446-11ef-a46b-d4d853125d26.jpg -> Annotation:C:/Users/johannes.erfurt/python_projects/TFODCourse/Tensorflow/workspace/images/collectedimages/elias\\elias.b6c1c8eb-9446-11ef-a46b-d4d853125d26.xml\n",
      "Image:C:\\Users\\johannes.erfurt\\python_projects\\TFODCourse\\Tensorflow\\workspace\\images\\collectedimages\\elias\\elias.b45a85a6-9446-11ef-9020-d4d853125d26.jpg -> Annotation:C:/Users/johannes.erfurt/python_projects/TFODCourse/Tensorflow/workspace/images/collectedimages/elias\\elias.b45a85a6-9446-11ef-9020-d4d853125d26.xml\n",
      "Image:C:\\Users\\johannes.erfurt\\python_projects\\TFODCourse\\Tensorflow\\workspace\\images\\collectedimages\\elias\\elias.b58db15d-9446-11ef-887e-d4d853125d26.jpg -> Annotation:C:/Users/johannes.erfurt/python_projects/TFODCourse/Tensorflow/workspace/images/collectedimages/elias\\elias.b58db15d-9446-11ef-887e-d4d853125d26.xml\n",
      "Image:C:\\Users\\johannes.erfurt\\python_projects\\TFODCourse\\Tensorflow\\workspace\\images\\collectedimages\\elias\\elias.b32461fe-9446-11ef-995b-d4d853125d26.jpg -> Annotation:C:/Users/johannes.erfurt/python_projects/TFODCourse/Tensorflow/workspace/images/collectedimages/elias\\elias.b32461fe-9446-11ef-995b-d4d853125d26.xml\n",
      "Image:C:\\Users\\johannes.erfurt\\python_projects\\TFODCourse\\Tensorflow\\workspace\\images\\collectedimages\\elias\\elias.ba5e89f2-9446-11ef-8d45-d4d853125d26.jpg -> Annotation:C:/Users/johannes.erfurt/python_projects/TFODCourse/Tensorflow/workspace/images/collectedimages/elias\\elias.ba5e89f2-9446-11ef-8d45-d4d853125d26.xml\n",
      "Image:C:\\Users\\johannes.erfurt\\python_projects\\TFODCourse\\Tensorflow\\workspace\\images\\collectedimages\\elias\\elias.bcc72364-9446-11ef-b13b-d4d853125d26.jpg -> Annotation:C:/Users/johannes.erfurt/python_projects/TFODCourse/Tensorflow/workspace/images/collectedimages/elias\\elias.bcc72364-9446-11ef-b13b-d4d853125d26.xml\n",
      "Cancel creation.\n",
      "Image:C:\\Users\\johannes.erfurt\\python_projects\\TFODCourse\\Tensorflow\\workspace\\images\\collectedimages\\elias\\elias.bdfaff9a-9446-11ef-83c4-d4d853125d26.jpg -> Annotation:C:/Users/johannes.erfurt/python_projects/TFODCourse/Tensorflow/workspace/images/collectedimages/elias\\elias.bdfaff9a-9446-11ef-83c4-d4d853125d26.xml\n",
      "Image:C:\\Users\\johannes.erfurt\\python_projects\\TFODCourse\\Tensorflow\\workspace\\images\\collectedimages\\elias\\elias.bf310cde-9446-11ef-9cea-d4d853125d26.jpg -> Annotation:C:/Users/johannes.erfurt/python_projects/TFODCourse/Tensorflow/workspace/images/collectedimages/elias\\elias.bf310cde-9446-11ef-9cea-d4d853125d26.xml\n",
      "Image:C:\\Users\\johannes.erfurt\\python_projects\\TFODCourse\\Tensorflow\\workspace\\images\\collectedimages\\elias\\elias.c2ce806a-9446-11ef-a9c5-d4d853125d26.jpg -> Annotation:C:/Users/johannes.erfurt/python_projects/TFODCourse/Tensorflow/workspace/images/collectedimages/elias\\elias.c2ce806a-9446-11ef-a9c5-d4d853125d26.xml\n",
      "Image:C:\\Users\\johannes.erfurt\\python_projects\\TFODCourse\\Tensorflow\\workspace\\images\\collectedimages\\elias\\elias.c19a7c8c-9446-11ef-bb88-d4d853125d26.jpg -> Annotation:C:/Users/johannes.erfurt/python_projects/TFODCourse/Tensorflow/workspace/images/collectedimages/elias\\elias.c19a7c8c-9446-11ef-bb88-d4d853125d26.xml\n",
      "Image:C:\\Users\\johannes.erfurt\\python_projects\\TFODCourse\\Tensorflow\\workspace\\images\\collectedimages\\elias\\elias.c53a057a-9446-11ef-aec1-d4d853125d26.jpg -> Annotation:C:/Users/johannes.erfurt/python_projects/TFODCourse/Tensorflow/workspace/images/collectedimages/elias\\elias.c53a057a-9446-11ef-aec1-d4d853125d26.xml\n",
      "Image:C:\\Users\\johannes.erfurt\\python_projects\\TFODCourse\\Tensorflow\\workspace\\images\\collectedimages\\elias\\elias.c064d795-9446-11ef-bca9-d4d853125d26.jpg -> Annotation:C:/Users/johannes.erfurt/python_projects/TFODCourse/Tensorflow/workspace/images/collectedimages/elias\\elias.c064d795-9446-11ef-bca9-d4d853125d26.xml\n",
      "Image:C:\\Users\\johannes.erfurt\\python_projects\\TFODCourse\\Tensorflow\\workspace\\images\\collectedimages\\elias\\elias.c404454d-9446-11ef-9ddc-d4d853125d26.jpg -> Annotation:C:/Users/johannes.erfurt/python_projects/TFODCourse/Tensorflow/workspace/images/collectedimages/elias\\elias.c404454d-9446-11ef-9ddc-d4d853125d26.xml\n"
     ]
    }
   ],
   "source": [
    "!cd {LABELIMG_PATH} && python labelImg.py"
   ]
  },
  {
   "cell_type": "markdown",
   "metadata": {},
   "source": [
    "# 6. Move them into a Training and Testing Partition"
   ]
  },
  {
   "cell_type": "markdown",
   "metadata": {},
   "source": [
    "# OPTIONAL - 7. Compress them for Colab Training"
   ]
  },
  {
   "cell_type": "code",
   "execution_count": 30,
   "metadata": {},
   "outputs": [],
   "source": [
    "TRAIN_PATH = os.path.join('Tensorflow', 'workspace', 'images', 'train')\n",
    "TEST_PATH = os.path.join('Tensorflow', 'workspace', 'images', 'test')\n",
    "ARCHIVE_PATH = os.path.join('Tensorflow', 'workspace', 'images', 'archive.tar.gz')\n",
    "\n",
    "TRAIN_PATH = TRAIN_PATH.replace('\\\\', '/')\n",
    "TEST_PATH = TEST_PATH.replace('\\\\', '/')"
   ]
  },
  {
   "cell_type": "code",
   "execution_count": 31,
   "metadata": {},
   "outputs": [],
   "source": [
    "!tar -czf {ARCHIVE_PATH} {TRAIN_PATH} {TEST_PATH}"
   ]
  }
 ],
 "metadata": {
  "kernelspec": {
   "display_name": "tfod",
   "language": "python",
   "name": "python3"
  },
  "language_info": {
   "codemirror_mode": {
    "name": "ipython",
    "version": 3
   },
   "file_extension": ".py",
   "mimetype": "text/x-python",
   "name": "python",
   "nbconvert_exporter": "python",
   "pygments_lexer": "ipython3",
   "version": "3.8.10"
  }
 },
 "nbformat": 4,
 "nbformat_minor": 2
}
